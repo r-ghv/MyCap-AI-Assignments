{
 "cells": [
  {
   "cell_type": "code",
   "execution_count": 7,
   "id": "c38da0d8-4b5a-4736-afa3-3ddaab493db4",
   "metadata": {},
   "outputs": [
    {
     "name": "stdin",
     "output_type": "stream",
     "text": [
      "Enter the number of terms to be displayed in the Fibonacci sequence: 10\n"
     ]
    },
    {
     "name": "stdout",
     "output_type": "stream",
     "text": [
      "0\n",
      "1\n",
      "1\n",
      "2\n",
      "3\n",
      "5\n",
      "8\n",
      "13\n",
      "21\n",
      "34\n"
     ]
    }
   ],
   "source": [
    "#This is a program to print the fibonacci sequence upto nth term\n",
    "fib = [0, 1]\n",
    "n = int(input(\"Enter the number of terms to be displayed in the Fibonacci sequence:\"))\n",
    "for i in range(2,n):\n",
    "    fib.append(fib[i-1]+fib[i-2])\n",
    "for i in range(n):\n",
    "    print(fib[i])"
   ]
  },
  {
   "cell_type": "code",
   "execution_count": null,
   "id": "211ef5da-e651-4efe-aa7e-f826a7e4ddd8",
   "metadata": {},
   "outputs": [],
   "source": []
  }
 ],
 "metadata": {
  "kernelspec": {
   "display_name": "Python 3 (ipykernel)",
   "language": "python",
   "name": "python3"
  },
  "language_info": {
   "codemirror_mode": {
    "name": "ipython",
    "version": 3
   },
   "file_extension": ".py",
   "mimetype": "text/x-python",
   "name": "python",
   "nbconvert_exporter": "python",
   "pygments_lexer": "ipython3",
   "version": "3.11.7"
  }
 },
 "nbformat": 4,
 "nbformat_minor": 5
}
